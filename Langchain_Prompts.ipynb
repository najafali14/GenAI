{
  "nbformat": 4,
  "nbformat_minor": 0,
  "metadata": {
    "colab": {
      "provenance": []
    },
    "kernelspec": {
      "name": "python3",
      "display_name": "Python 3"
    },
    "language_info": {
      "name": "python"
    }
  },
  "cells": [
    {
      "cell_type": "markdown",
      "source": [
        "# ***Langchain Prompts***"
      ],
      "metadata": {
        "id": "0pJO-dr_OcZB"
      }
    },
    {
      "cell_type": "code",
      "source": [
        "!pip install langchain_google_genai"
      ],
      "metadata": {
        "id": "eVaLW60Lxq7k"
      },
      "execution_count": null,
      "outputs": []
    },
    {
      "cell_type": "code",
      "source": [
        "#static single conversation\n",
        "from langchain_google_genai import ChatGoogleGenerativeAI as genai\n",
        "model = genai(model=\"gemini-2.0-flash\",api_key=\"your_key\")\n",
        "prompt = \"what is capital of Pakistan\"\n",
        "result = model.invoke(prompt)\n",
        "print(result.content)"
      ],
      "metadata": {
        "colab": {
          "base_uri": "https://localhost:8080/"
        },
        "id": "Xq_xSLvBgGji",
        "outputId": "56bbf1cc-2326-40ce-b840-79ffe7f47d30"
      },
      "execution_count": 2,
      "outputs": [
        {
          "output_type": "stream",
          "name": "stdout",
          "text": [
            "The capital of Pakistan is **Islamabad**.\n"
          ]
        }
      ]
    },
    {
      "cell_type": "code",
      "source": [
        "#dynamic single conversations\n",
        "from langchain_core.prompts import PromptTemplate\n",
        "from langchain_google_genai import ChatGoogleGenerativeAI as genai\n",
        "\n",
        "model = genai(model=\"gemini-2.0-flash\",api_key=\"your_key\")\n",
        "\n",
        "# detailed template way\n",
        "template = PromptTemplate(\n",
        "    template='Greet this person in 5 languages. The name of the person is {name}',\n",
        "    input_variables=['name']\n",
        ")\n",
        "# template.save('greeting_template.json')  #to reuseable template\n",
        "# fill the values of the placeholders\n",
        "prompt = template.invoke({'name':'Najaf Ali'})\n",
        "\n",
        "result = model.invoke(prompt)\n",
        "\n",
        "print(result.content)\n"
      ],
      "metadata": {
        "colab": {
          "base_uri": "https://localhost:8080/"
        },
        "id": "FFpyKS2JgSik",
        "outputId": "6bab2d7d-91c9-4c3f-8cb0-605a736a7f7b"
      },
      "execution_count": 3,
      "outputs": [
        {
          "output_type": "stream",
          "name": "stdout",
          "text": [
            "Okay, here are greetings for Najaf Ali in 5 different languages:\n",
            "\n",
            "1.  **English:** Hello Najaf Ali!\n",
            "2.  **Arabic:**  مرحبا نجف علي (Marhaba Najaf Ali!)\n",
            "3.  **Urdu:**  السلام علیکم نجف علی (Assalamu Alaikum Najaf Ali!)\n",
            "4.  **Persian (Farsi):** سلام نجف علی (Salam Najaf Ali!)\n",
            "5.  **Hindi:** नमस्ते नजफ अली (Namaste Najaf Ali!)\n"
          ]
        }
      ]
    },
    {
      "cell_type": "code",
      "source": [
        "from langchain_google_genai import ChatGoogleGenerativeAI as genai\n",
        "model = genai(model=\"gemini-2.0-flash\",api_key=\"your_key\")\n",
        "chat_history = [] #to make memory\n",
        "while True:\n",
        "  user_input = input(\"You: \")\n",
        "  chat_history.append((user_input))\n",
        "  if user_input==\"exit\":\n",
        "    break\n",
        "  else:\n",
        "    result = model.invoke(chat_history)\n",
        "    chat_history.append(result.content)\n",
        "    print(\"Chatbot: \",result.content)\n",
        "print(chat_history)\n"
      ],
      "metadata": {
        "colab": {
          "base_uri": "https://localhost:8080/"
        },
        "id": "FYmBxoIHghEs",
        "outputId": "24ef7499-580c-40e4-8ac5-f48429c92030"
      },
      "execution_count": 5,
      "outputs": [
        {
          "output_type": "stream",
          "name": "stdout",
          "text": [
            "You: my name is najaf ali\n",
            "Chatbot:  Okay, Najaf Ali. It's nice to meet you. How can I help you today?\n",
            "You: write 2 line urdu poetry on me\n",
            "Chatbot:  ٹھہراؤ میں بھی ہے تیری روانی نجف،\n",
            "علی کی طرح ہے تیری یہ کہانی نجف!\n",
            "\n",
            "(Thahrao mein bhi hai teri rawani Najaf,\n",
            "Ali ki tarah hai teri yeh kahani Najaf!)\n",
            "\n",
            "**Translation:**\n",
            "\n",
            "Your stillness also possesses a flow, Najaf,\n",
            "Your story is like Ali's, Najaf!\n",
            "\n",
            "This attempts to capture the meaning of your name, connecting it to Ali (a significant figure in Islam) and suggesting a sense of depth and narrative.\n",
            "You: exit\n",
            "['my name is najaf ali', \"Okay, Najaf Ali. It's nice to meet you. How can I help you today?\", 'write 2 line urdu poetry on me', \"ٹھہراؤ میں بھی ہے تیری روانی نجف،\\nعلی کی طرح ہے تیری یہ کہانی نجف!\\n\\n(Thahrao mein bhi hai teri rawani Najaf,\\nAli ki tarah hai teri yeh kahani Najaf!)\\n\\n**Translation:**\\n\\nYour stillness also possesses a flow, Najaf,\\nYour story is like Ali's, Najaf!\\n\\nThis attempts to capture the meaning of your name, connecting it to Ali (a significant figure in Islam) and suggesting a sense of depth and narrative.\", 'exit']\n"
          ]
        }
      ]
    },
    {
      "cell_type": "code",
      "source": [
        "#static list conversations\n",
        "from langchain_core.messages import HumanMessage, SystemMessage, AIMessage\n",
        "from langchain_google_genai import ChatGoogleGenerativeAI as genai\n",
        "model = genai(model=\"gemini-2.0-flash\",google_api_key = \"your_key\")\n",
        "messages_history = [\n",
        "    SystemMessage(content=\"You are personel assistant.Your name is AN\")\n",
        "\n",
        "]\n",
        "while True:\n",
        "  user_message = input(\"You: \")\n",
        "  messages_history.append(HumanMessage(content=user_message))\n",
        "  if user_message==\"exit\":\n",
        "    break\n",
        "  else:\n",
        "    result = model.invoke(messages_history)\n",
        "    messages_history.append(AIMessage(content=result.content))\n",
        "    print(\"Chatbot: \", result.content)"
      ],
      "metadata": {
        "colab": {
          "base_uri": "https://localhost:8080/"
        },
        "id": "dPZaZTdIg_Iw",
        "outputId": "d94a278a-c807-46ca-fa9d-deef7c16e2be"
      },
      "execution_count": 7,
      "outputs": [
        {
          "name": "stdout",
          "output_type": "stream",
          "text": [
            "You: i am najaf ali\n",
            "Chatbot:  Hello Najaf Ali, it's nice to meet you. How can I help you today?\n",
            "You: who i am?\n",
            "Chatbot:  You are Najaf Ali. You told me that just a moment ago! Is there anything else you'd like to tell me about yourself?\n",
            "You: exit\n"
          ]
        }
      ]
    },
    {
      "cell_type": "code",
      "source": [
        "#dynamic lists conversations\n",
        "from langchain_core.prompts import ChatPromptTemplate\n",
        "from langchain_google_genai import ChatGoogleGenerativeAI as genai\n",
        "model = genai(model=\"gemini-2.0-flash\",google_api_key = \"your_key\")\n",
        "chat_prompt = ChatPromptTemplate([\n",
        "    (\"system\", \"You are {domain} assistant.\"),\n",
        "    (\"human\", \"explain in simple terms , what is {topic}\")\n",
        "])\n",
        "prompt = chat_prompt.invoke({\"domain\":\"programming\",\"topic\":\"python\"})\n",
        "result = model.invoke(prompt)\n",
        "print(result.content)"
      ],
      "metadata": {
        "colab": {
          "base_uri": "https://localhost:8080/"
        },
        "id": "tz409GCEhZOb",
        "outputId": "28377398-a6e9-4946-8769-8b929e2978ee"
      },
      "execution_count": 8,
      "outputs": [
        {
          "output_type": "stream",
          "name": "stdout",
          "text": [
            "Imagine you want to give instructions to a computer. You can't just talk to it in English, it wouldn't understand! You need to use a special language the computer *does* understand.\n",
            "\n",
            "Python is like one of those special languages. It's a **programming language** that helps you tell a computer what to do.  Think of it as a set of instructions you write down in a way the computer can read and follow.\n",
            "\n",
            "Here's a breakdown in simpler terms:\n",
            "\n",
            "*   **Language for Computers:** Python is a way to talk to computers and tell them what tasks to perform.\n",
            "*   **Instructions:** You write instructions (called \"code\") in Python.\n",
            "*   **Easy to Read:**  Python is designed to be relatively easy to read and understand (compared to some other programming languages). It uses words that are closer to everyday language.\n",
            "*   **Lots of Uses:** You can use Python to build websites, analyze data, create games, automate tasks, and much more!\n",
            "\n",
            "**Think of it like a recipe:**\n",
            "\n",
            "*   **Recipe (Python code):** Tells you step-by-step how to make a cake.\n",
            "*   **Ingredients (Data):**  Flour, sugar, eggs, etc.\n",
            "*   **Oven (Computer):**  Follows the recipe and uses the ingredients to bake the cake.\n",
            "*   **Cake (Result):** The final product of the computer following your Python instructions.\n",
            "\n",
            "So, in short, Python is a user-friendly language that allows you to give instructions to a computer to perform various tasks.\n"
          ]
        }
      ]
    },
    {
      "cell_type": "code",
      "source": [
        "# !pip install langchain_google_genai\n",
        "from langchain_core.prompts import ChatPromptTemplate\n",
        "from langchain_google_genai import ChatGoogleGenerativeAI as genai\n",
        "model = genai(model=\"gemini-2.0-flash\",google_api_key = \"your_key\")\n",
        "prompt = ChatPromptTemplate(\n",
        "    [\n",
        "        'system','you are {domain}',\n",
        "        'human','what is capital of {country}'\n",
        "    ]\n",
        ")\n",
        "result = model.invoke(prompt.invoke({\"domain\":\"assistant\",\"country\":\"Pakistan\"}))\n",
        "print(result.content)"
      ],
      "metadata": {
        "colab": {
          "base_uri": "https://localhost:8080/"
        },
        "id": "w-tXFdrNhm3Y",
        "outputId": "1ec2280e-c473-42a3-b1e6-a5378c197e39"
      },
      "execution_count": 9,
      "outputs": [
        {
          "output_type": "stream",
          "name": "stdout",
          "text": [
            "The capital of Pakistan is **Islamabad**.\n"
          ]
        }
      ]
    }
  ]
}